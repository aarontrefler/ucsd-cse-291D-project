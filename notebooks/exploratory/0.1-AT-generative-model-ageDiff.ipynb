{
 "cells": [
  {
   "cell_type": "markdown",
   "metadata": {},
   "source": [
    "# Setup"
   ]
  },
  {
   "cell_type": "code",
   "execution_count": 7,
   "metadata": {
    "collapsed": true
   },
   "outputs": [],
   "source": [
    "%load_ext autoreload\n",
    "%autoreload 2\n",
    "%matplotlib inline"
   ]
  },
  {
   "cell_type": "code",
   "execution_count": 24,
   "metadata": {
    "collapsed": true
   },
   "outputs": [],
   "source": [
    "# Add folder to path\n",
    "import sys\n",
    "src_path = '../../code' \n",
    "sys.path.insert(0, src_path) \n",
    "\n",
    "import matplotlib.pylab as plt\n",
    "import numpy as np\n",
    "import pandas as pd\n",
    "import seaborn as sns\n",
    "\n",
    "from numpy.random import dirichlet, gamma, multinomial, normal "
   ]
  },
  {
   "cell_type": "code",
   "execution_count": 5,
   "metadata": {
    "collapsed": false
   },
   "outputs": [
    {
     "data": {
      "text/html": [
       "<div>\n",
       "<table border=\"1\" class=\"dataframe\">\n",
       "  <thead>\n",
       "    <tr style=\"text-align: right;\">\n",
       "      <th></th>\n",
       "      <th>iid</th>\n",
       "      <th>id</th>\n",
       "      <th>gender</th>\n",
       "      <th>idg</th>\n",
       "      <th>condtn</th>\n",
       "      <th>wave</th>\n",
       "      <th>round</th>\n",
       "      <th>position</th>\n",
       "      <th>positin1</th>\n",
       "      <th>order</th>\n",
       "      <th>...</th>\n",
       "      <th>attr3_3</th>\n",
       "      <th>sinc3_3</th>\n",
       "      <th>intel3_3</th>\n",
       "      <th>fun3_3</th>\n",
       "      <th>amb3_3</th>\n",
       "      <th>attr5_3</th>\n",
       "      <th>sinc5_3</th>\n",
       "      <th>intel5_3</th>\n",
       "      <th>fun5_3</th>\n",
       "      <th>amb5_3</th>\n",
       "    </tr>\n",
       "  </thead>\n",
       "  <tbody>\n",
       "    <tr>\n",
       "      <th>0</th>\n",
       "      <td>1</td>\n",
       "      <td>1.0</td>\n",
       "      <td>0</td>\n",
       "      <td>1</td>\n",
       "      <td>1</td>\n",
       "      <td>1</td>\n",
       "      <td>10</td>\n",
       "      <td>7</td>\n",
       "      <td>NaN</td>\n",
       "      <td>4</td>\n",
       "      <td>...</td>\n",
       "      <td>5.0</td>\n",
       "      <td>7.0</td>\n",
       "      <td>7.0</td>\n",
       "      <td>7.0</td>\n",
       "      <td>7.0</td>\n",
       "      <td>NaN</td>\n",
       "      <td>NaN</td>\n",
       "      <td>NaN</td>\n",
       "      <td>NaN</td>\n",
       "      <td>NaN</td>\n",
       "    </tr>\n",
       "  </tbody>\n",
       "</table>\n",
       "<p>1 rows × 195 columns</p>\n",
       "</div>"
      ],
      "text/plain": [
       "   iid   id  gender  idg  condtn  wave  round  position  positin1  order  \\\n",
       "0    1  1.0       0    1       1     1     10         7       NaN      4   \n",
       "\n",
       "    ...    attr3_3  sinc3_3  intel3_3  fun3_3  amb3_3  attr5_3  sinc5_3  \\\n",
       "0   ...        5.0      7.0       7.0     7.0     7.0      NaN      NaN   \n",
       "\n",
       "   intel5_3  fun5_3  amb5_3  \n",
       "0       NaN     NaN     NaN  \n",
       "\n",
       "[1 rows x 195 columns]"
      ]
     },
     "execution_count": 5,
     "metadata": {},
     "output_type": "execute_result"
    }
   ],
   "source": [
    "data_df = pd.read_csv(\"../../data/raw/speed_dating_data.csv\", encoding=\"ISO-8859-1\")\n",
    "data_df.head(1)"
   ]
  },
  {
   "cell_type": "code",
   "execution_count": 6,
   "metadata": {
    "collapsed": false,
    "scrolled": false
   },
   "outputs": [],
   "source": [
    "#for col in data_df.columns:\n",
    "#    print(col)"
   ]
  },
  {
   "cell_type": "code",
   "execution_count": 8,
   "metadata": {
    "collapsed": false
   },
   "outputs": [
    {
     "data": {
      "text/plain": [
       "(4194, 195)"
      ]
     },
     "execution_count": 8,
     "metadata": {},
     "output_type": "execute_result"
    }
   ],
   "source": [
    "# remove duplicate dates\n",
    "data_m_df = data_df[data_df[\"gender\"] == 1]\n",
    "data_m_df.shape"
   ]
  },
  {
   "cell_type": "code",
   "execution_count": 58,
   "metadata": {
    "collapsed": false
   },
   "outputs": [
    {
     "data": {
      "text/html": [
       "<div>\n",
       "<table border=\"1\" class=\"dataframe\">\n",
       "  <thead>\n",
       "    <tr style=\"text-align: right;\">\n",
       "      <th></th>\n",
       "      <th>age</th>\n",
       "      <th>age_o</th>\n",
       "      <th>match</th>\n",
       "      <th>ageDiff</th>\n",
       "    </tr>\n",
       "  </thead>\n",
       "  <tbody>\n",
       "    <tr>\n",
       "      <th>100</th>\n",
       "      <td>27.0</td>\n",
       "      <td>21.0</td>\n",
       "      <td>0</td>\n",
       "      <td>6.0</td>\n",
       "    </tr>\n",
       "    <tr>\n",
       "      <th>101</th>\n",
       "      <td>27.0</td>\n",
       "      <td>24.0</td>\n",
       "      <td>0</td>\n",
       "      <td>3.0</td>\n",
       "    </tr>\n",
       "    <tr>\n",
       "      <th>102</th>\n",
       "      <td>27.0</td>\n",
       "      <td>25.0</td>\n",
       "      <td>0</td>\n",
       "      <td>2.0</td>\n",
       "    </tr>\n",
       "    <tr>\n",
       "      <th>103</th>\n",
       "      <td>27.0</td>\n",
       "      <td>23.0</td>\n",
       "      <td>0</td>\n",
       "      <td>4.0</td>\n",
       "    </tr>\n",
       "    <tr>\n",
       "      <th>104</th>\n",
       "      <td>27.0</td>\n",
       "      <td>21.0</td>\n",
       "      <td>0</td>\n",
       "      <td>6.0</td>\n",
       "    </tr>\n",
       "  </tbody>\n",
       "</table>\n",
       "</div>"
      ],
      "text/plain": [
       "      age  age_o  match  ageDiff\n",
       "100  27.0   21.0      0      6.0\n",
       "101  27.0   24.0      0      3.0\n",
       "102  27.0   25.0      0      2.0\n",
       "103  27.0   23.0      0      4.0\n",
       "104  27.0   21.0      0      6.0"
      ]
     },
     "execution_count": 58,
     "metadata": {},
     "output_type": "execute_result"
    }
   ],
   "source": [
    "# extract age differences\n",
    "ageDiff_df = data_m_df[[\"age\", \"age_o\", \"match\"]]\n",
    "ageDiff_df = ageDiff_df.assign(ageDiff = ageDiff_df[\"age\"] - ageDiff_df[\"age_o\"])\n",
    "\n",
    "# drop examples with nan values\n",
    "ageDiff_df = ageDiff_df.dropna()\n",
    "\n",
    "ageDiff_df.head()"
   ]
  },
  {
   "cell_type": "code",
   "execution_count": 111,
   "metadata": {
    "collapsed": false,
    "scrolled": true
   },
   "outputs": [
    {
     "data": {
      "image/png": "[encoded data removed]",
      "text/plain": [
       "<matplotlib.figure.Figure at 0x113f79710>"
      ]
     },
     "metadata": {},
     "output_type": "display_data"
    }
   ],
   "source": [
    "plt.figure(figsize=(10,5))\n",
    "sns.boxplot(x=\"match\", y=\"ageDiff\", data=ageDiff_df)\n",
    "plt.show()"
   ]
  },
  {
   "cell_type": "code",
   "execution_count": 60,
   "metadata": {
    "collapsed": false,
    "scrolled": true
   },
   "outputs": [
    {
     "name": "stdout",
     "output_type": "stream",
     "text": [
      "No match mean: 0.5228203627852546\n",
      "Match mean:    0.5297619047619048\n"
     ]
    }
   ],
   "source": [
    "print(\"No match mean:\", np.mean(ageDiff_df.loc[ageDiff_df[\"match\"] == 0, \"ageDiff\"]))\n",
    "print(\"Match mean:   \", np.mean(ageDiff_df.loc[ageDiff_df[\"match\"] == 1, \"ageDiff\"]))"
   ]
  },
  {
   "cell_type": "code",
   "execution_count": 214,
   "metadata": {
    "collapsed": true
   },
   "outputs": [],
   "source": [
    "import math\n",
    "def normpdf(x, mean, tau):\n",
    "    var = 1/tau\n",
    "    pi = 3.1415926\n",
    "    denom = (2*pi*var)**.5\n",
    "    num = math.exp(-(float(x)-float(mean))**2/(2*var))\n",
    "    return num/denom"
   ]
  },
  {
   "cell_type": "markdown",
   "metadata": {
    "collapsed": true
   },
   "source": [
    "# Initiate Model"
   ]
  },
  {
   "cell_type": "code",
   "execution_count": 215,
   "metadata": {
    "collapsed": false
   },
   "outputs": [],
   "source": [
    "X = ageDiff_df[\"ageDiff\"].values\n",
    "y = ageDiff_df[\"match\"].values"
   ]
  },
  {
   "cell_type": "code",
   "execution_count": 216,
   "metadata": {
    "collapsed": true
   },
   "outputs": [],
   "source": [
    "iterations = 200\n",
    "n_classes = 2\n",
    "n_examples = X.shape[0]"
   ]
  },
  {
   "cell_type": "code",
   "execution_count": 217,
   "metadata": {
    "collapsed": false
   },
   "outputs": [],
   "source": [
    "# Initiate variables\n",
    "\n",
    "# hyperparameters\n",
    "alpha_pi = [1,1] # paramaterizes dirichlet over pi's\n",
    "alpha_mu = 0     # paramaterizes guassian over mu's\n",
    "alpha_tau = 1    # paramaterizes gamma over tau's\n",
    "beta_tau = 1     # paramaterizes gamma over tau's\n",
    "\n",
    "# latent variables\n",
    "pi = dirichlet(alpha_pi) # paramaterizes discrete of z's\n",
    "mu_vec = np.zeros(2)     # paramaterizes gaussians over x's\n",
    "tau_vec = np.zeros(2)    # paramaterizes gaussians over x's\n",
    "for i in range(n_classes):\n",
    "    mu_vec[i] = normal(alpha_mu, scale=1.0)\n",
    "    tau_vec[i] = gamma(alpha_tau, 1.0/beta_tau)\n",
    "\n",
    "z_vec = np.zeros((n_examples, n_classes))\n",
    "for i in range(n_examples):\n",
    "    z_vec[i,:] = multinomial(n=1, pvals=pi)"
   ]
  },
  {
   "cell_type": "code",
   "execution_count": 218,
   "metadata": {
    "collapsed": false
   },
   "outputs": [
    {
     "name": "stdout",
     "output_type": "stream",
     "text": [
      "[ 0.11184104  0.88815896]\n",
      "[-0.98020325 -0.31749703]\n",
      "[ 0.91909992  1.78755113]\n"
     ]
    }
   ],
   "source": [
    "print(pi)\n",
    "print(mu_vec)\n",
    "print(tau_vec)"
   ]
  },
  {
   "cell_type": "markdown",
   "metadata": {},
   "source": [
    "# Gibbs Sampling"
   ]
  },
  {
   "cell_type": "code",
   "execution_count": 255,
   "metadata": {
    "collapsed": false
   },
   "outputs": [
    {
     "name": "stdout",
     "output_type": "stream",
     "text": [
      "updated pi: [ 0.09451144  0.90548856]\n"
     ]
    }
   ],
   "source": [
    "# update pi\n",
    "param_update = pi_beta + np.sum(z_vec, axis=0)\n",
    "pi = dirichlet(param_update)\n",
    "\n",
    "print(\"updated pi:\", pi)"
   ]
  },
  {
   "cell_type": "code",
   "execution_count": 256,
   "metadata": {
    "collapsed": false
   },
   "outputs": [
    {
     "name": "stdout",
     "output_type": "stream",
     "text": [
      "updated mu_vec: [-0.36036211  0.63419125]\n"
     ]
    }
   ],
   "source": [
    "# update mu's\n",
    "for i in range(n_classes):\n",
    "    c_idx = z_vec[:,i] == 1\n",
    "    c_examples = np.sum(c_idx)\n",
    "    \n",
    "    param1_update = (mu_vec[i] + tau_vec[i]*np.sum(X[c_idx])) / (1 + c_examples*tau_vec[i])\n",
    "    param2_update = 1 + c_examples*tau_vec[i]\n",
    "    \n",
    "    mu_vec[i] = normal(param1_update, 1/param2_update)\n",
    "\n",
    "print(\"updated mu_vec:\", mu_vec)"
   ]
  },
  {
   "cell_type": "code",
   "execution_count": 257,
   "metadata": {
    "collapsed": false
   },
   "outputs": [
    {
     "name": "stdout",
     "output_type": "stream",
     "text": [
      "updated tau_vec: [ 0.01323405  0.06008138]\n"
     ]
    }
   ],
   "source": [
    "# update tau's\n",
    "for i in range(n_classes):\n",
    "    c_idx = z_vec[:,i] == 1\n",
    "    c_examples = np.sum(c_idx)\n",
    "    \n",
    "    param1_update = alpha_tau + (c_examples / 2)\n",
    "    param2_update = beta_tau + (np.sum( (X[c_idx] - mu_vec[i])**2 )) / 2\n",
    "    \n",
    "    tau_vec[i] = gamma(param1_update, 1.0/param2_update)\n",
    "\n",
    "print(\"updated tau_vec:\", tau_vec)"
   ]
  },
  {
   "cell_type": "code",
   "execution_count": 258,
   "metadata": {
    "collapsed": false
   },
   "outputs": [],
   "source": [
    "# update latent classes\n",
    "for i in range(n_examples):\n",
    "    \n",
    "    # likelihood of class 0\n",
    "    likelihood_0 = normpdf(X[i], mu_vec[0], tau_vec[0])\n",
    "    # prior of class 0\n",
    "    prior_0 = pi[0]\n",
    "       \n",
    "    # likelihood of class 1\n",
    "    likelihood_1 = normpdf(X[i], mu_vec[1], tau_vec[1])\n",
    "    # prior of class 1\n",
    "    prior_1 = pi[1]\n",
    "    \n",
    "    # marginal likelihood\n",
    "    Z = (likelihood_0 * prior_0) + (likelihood_1 * prior_1)\n",
    "    \n",
    "    # probability of class 0\n",
    "    prob_0 = (likelihood_0 * prior_0) / Z\n",
    "    # probability of class 1\n",
    "    prob_1 = (likelihood_1 * prior_1) / Z\n",
    "    \n",
    "    # sample from updated multinomial distribution\n",
    "    z_vec[i,:] = multinomial(n=1, pvals=[prob_0, prob_1])"
   ]
  },
  {
   "cell_type": "code",
   "execution_count": null,
   "metadata": {
    "collapsed": true
   },
   "outputs": [],
   "source": []
  }
 ],
 "metadata": {
  "kernelspec": {
   "display_name": "Python 3",
   "language": "python",
   "name": "python3"
  },
  "language_info": {
   "codemirror_mode": {
    "name": "ipython",
    "version": 3
   },
   "file_extension": ".py",
   "mimetype": "text/x-python",
   "name": "python",
   "nbconvert_exporter": "python",
   "pygments_lexer": "ipython3",
   "version": "3.5.2"
  }
 },
 "nbformat": 4,
 "nbformat_minor": 2
}
