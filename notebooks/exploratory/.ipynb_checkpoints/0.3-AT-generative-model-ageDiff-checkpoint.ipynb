{
 "cells": [
  {
   "cell_type": "markdown",
   "metadata": {},
   "source": [
    "# Setup"
   ]
  },
  {
   "cell_type": "code",
   "execution_count": 2,
   "metadata": {
    "collapsed": true
   },
   "outputs": [],
   "source": [
    "%load_ext autoreload\n",
    "%autoreload 2\n",
    "%matplotlib inline"
   ]
  },
  {
   "cell_type": "code",
   "execution_count": 3,
   "metadata": {
    "collapsed": true
   },
   "outputs": [],
   "source": [
    "# Add folder to path\n",
    "import sys\n",
    "src_path = '../../code' \n",
    "sys.path.insert(0, src_path) \n",
    "\n",
    "import matplotlib.pylab as plt\n",
    "import numpy as np\n",
    "import pandas as pd\n",
    "import seaborn as sns\n",
    "\n",
    "from numpy.random import dirichlet, gamma, multinomial, normal "
   ]
  },
  {
   "cell_type": "code",
   "execution_count": 4,
   "metadata": {
    "collapsed": false
   },
   "outputs": [
    {
     "data": {
      "text/html": [
       "<div>\n",
       "<table border=\"1\" class=\"dataframe\">\n",
       "  <thead>\n",
       "    <tr style=\"text-align: right;\">\n",
       "      <th></th>\n",
       "      <th>iid</th>\n",
       "      <th>id</th>\n",
       "      <th>gender</th>\n",
       "      <th>idg</th>\n",
       "      <th>condtn</th>\n",
       "      <th>wave</th>\n",
       "      <th>round</th>\n",
       "      <th>position</th>\n",
       "      <th>positin1</th>\n",
       "      <th>order</th>\n",
       "      <th>...</th>\n",
       "      <th>attr3_3</th>\n",
       "      <th>sinc3_3</th>\n",
       "      <th>intel3_3</th>\n",
       "      <th>fun3_3</th>\n",
       "      <th>amb3_3</th>\n",
       "      <th>attr5_3</th>\n",
       "      <th>sinc5_3</th>\n",
       "      <th>intel5_3</th>\n",
       "      <th>fun5_3</th>\n",
       "      <th>amb5_3</th>\n",
       "    </tr>\n",
       "  </thead>\n",
       "  <tbody>\n",
       "    <tr>\n",
       "      <th>0</th>\n",
       "      <td>1</td>\n",
       "      <td>1.0</td>\n",
       "      <td>0</td>\n",
       "      <td>1</td>\n",
       "      <td>1</td>\n",
       "      <td>1</td>\n",
       "      <td>10</td>\n",
       "      <td>7</td>\n",
       "      <td>NaN</td>\n",
       "      <td>4</td>\n",
       "      <td>...</td>\n",
       "      <td>5.0</td>\n",
       "      <td>7.0</td>\n",
       "      <td>7.0</td>\n",
       "      <td>7.0</td>\n",
       "      <td>7.0</td>\n",
       "      <td>NaN</td>\n",
       "      <td>NaN</td>\n",
       "      <td>NaN</td>\n",
       "      <td>NaN</td>\n",
       "      <td>NaN</td>\n",
       "    </tr>\n",
       "  </tbody>\n",
       "</table>\n",
       "<p>1 rows × 195 columns</p>\n",
       "</div>"
      ],
      "text/plain": [
       "   iid   id  gender  idg  condtn  wave  round  position  positin1  order  \\\n",
       "0    1  1.0       0    1       1     1     10         7       NaN      4   \n",
       "\n",
       "    ...    attr3_3  sinc3_3  intel3_3  fun3_3  amb3_3  attr5_3  sinc5_3  \\\n",
       "0   ...        5.0      7.0       7.0     7.0     7.0      NaN      NaN   \n",
       "\n",
       "   intel5_3  fun5_3  amb5_3  \n",
       "0       NaN     NaN     NaN  \n",
       "\n",
       "[1 rows x 195 columns]"
      ]
     },
     "execution_count": 4,
     "metadata": {},
     "output_type": "execute_result"
    }
   ],
   "source": [
    "data_df = pd.read_csv(\"../../data/raw/speed_dating_data.csv\", encoding=\"ISO-8859-1\")\n",
    "data_df.head(1)"
   ]
  },
  {
   "cell_type": "code",
   "execution_count": 5,
   "metadata": {
    "collapsed": false
   },
   "outputs": [
    {
     "data": {
      "text/plain": [
       "(4194, 195)"
      ]
     },
     "execution_count": 5,
     "metadata": {},
     "output_type": "execute_result"
    }
   ],
   "source": [
    "# remove duplicate dates\n",
    "data_m_df = data_df[data_df[\"gender\"] == 1]\n",
    "data_m_df.shape"
   ]
  },
  {
   "cell_type": "code",
   "execution_count": 6,
   "metadata": {
    "collapsed": false
   },
   "outputs": [
    {
     "name": "stdout",
     "output_type": "stream",
     "text": [
      "(4090, 4)\n"
     ]
    },
    {
     "data": {
      "text/html": [
       "<div>\n",
       "<table border=\"1\" class=\"dataframe\">\n",
       "  <thead>\n",
       "    <tr style=\"text-align: right;\">\n",
       "      <th></th>\n",
       "      <th>age</th>\n",
       "      <th>age_o</th>\n",
       "      <th>match</th>\n",
       "      <th>ageDiff</th>\n",
       "    </tr>\n",
       "  </thead>\n",
       "  <tbody>\n",
       "    <tr>\n",
       "      <th>100</th>\n",
       "      <td>27.0</td>\n",
       "      <td>21.0</td>\n",
       "      <td>0</td>\n",
       "      <td>6.0</td>\n",
       "    </tr>\n",
       "    <tr>\n",
       "      <th>101</th>\n",
       "      <td>27.0</td>\n",
       "      <td>24.0</td>\n",
       "      <td>0</td>\n",
       "      <td>3.0</td>\n",
       "    </tr>\n",
       "    <tr>\n",
       "      <th>102</th>\n",
       "      <td>27.0</td>\n",
       "      <td>25.0</td>\n",
       "      <td>0</td>\n",
       "      <td>2.0</td>\n",
       "    </tr>\n",
       "    <tr>\n",
       "      <th>103</th>\n",
       "      <td>27.0</td>\n",
       "      <td>23.0</td>\n",
       "      <td>0</td>\n",
       "      <td>4.0</td>\n",
       "    </tr>\n",
       "    <tr>\n",
       "      <th>104</th>\n",
       "      <td>27.0</td>\n",
       "      <td>21.0</td>\n",
       "      <td>0</td>\n",
       "      <td>6.0</td>\n",
       "    </tr>\n",
       "  </tbody>\n",
       "</table>\n",
       "</div>"
      ],
      "text/plain": [
       "      age  age_o  match  ageDiff\n",
       "100  27.0   21.0      0      6.0\n",
       "101  27.0   24.0      0      3.0\n",
       "102  27.0   25.0      0      2.0\n",
       "103  27.0   23.0      0      4.0\n",
       "104  27.0   21.0      0      6.0"
      ]
     },
     "execution_count": 6,
     "metadata": {},
     "output_type": "execute_result"
    }
   ],
   "source": [
    "# extract age differences\n",
    "ageDiff_df = data_m_df[[\"age\", \"age_o\", \"match\"]]\n",
    "ageDiff_df = ageDiff_df.assign(ageDiff = ageDiff_df[\"age\"] - ageDiff_df[\"age_o\"])\n",
    "\n",
    "# drop examples with nan values\n",
    "ageDiff_df = ageDiff_df.dropna()\n",
    "\n",
    "print(ageDiff_df.shape)\n",
    "ageDiff_df.head()"
   ]
  },
  {
   "cell_type": "code",
   "execution_count": 7,
   "metadata": {
    "collapsed": false
   },
   "outputs": [
    {
     "data": {
      "image/png": "[encoded data removed]",
      "text/plain": [
       "<matplotlib.figure.Figure at 0x111c81dd8>"
      ]
     },
     "metadata": {},
     "output_type": "display_data"
    }
   ],
   "source": [
    "match_idx = ageDiff_df[\"match\"] == 1\n",
    "plt.figure(figsize=(10,15))\n",
    "plt.subplot(3,1,1)\n",
    "plt.hist(ageDiff_df[\"ageDiff\"], bins=50)\n",
    "plt.xlim([-20,20])\n",
    "plt.title(\"All Dates\")\n",
    "\n",
    "plt.subplot(3,1,2)\n",
    "plt.hist(ageDiff_df.loc[match_idx,\"ageDiff\"], bins=25)\n",
    "plt.xlim([-20,20])\n",
    "plt.title(\"Mathes\")\n",
    "\n",
    "plt.subplot(3,1,3)\n",
    "plt.hist(ageDiff_df.loc[~match_idx,\"ageDiff\"], bins=25)\n",
    "plt.xlim([-20,20])\n",
    "plt.title(\"Non Matches\")\n",
    "\n",
    "plt.show()"
   ]
  },
  {
   "cell_type": "code",
   "execution_count": 8,
   "metadata": {
    "collapsed": false,
    "scrolled": true
   },
   "outputs": [
    {
     "name": "stdout",
     "output_type": "stream",
     "text": [
      "No match mean : 0.5228203627852546\n",
      "No match std  : 4.854185094839605\n",
      "No match count: 3418\n",
      "Match mean    : 0.5297619047619048\n",
      "Match std     : 4.118303504215602\n",
      "Match count   : 672\n"
     ]
    }
   ],
   "source": [
    "print(\"No match mean :\", np.mean(ageDiff_df.loc[ageDiff_df[\"match\"] == 0, \"ageDiff\"]))\n",
    "print(\"No match std  :\", np.std(ageDiff_df.loc[ageDiff_df[\"match\"] == 0, \"ageDiff\"]))\n",
    "print(\"No match count:\", len(ageDiff_df.loc[ageDiff_df[\"match\"] == 0, \"ageDiff\"]))\n",
    "print(\"Match mean    :\", np.mean(ageDiff_df.loc[ageDiff_df[\"match\"] == 1, \"ageDiff\"]))\n",
    "print(\"Match std     :\", np.std(ageDiff_df.loc[ageDiff_df[\"match\"] == 1, \"ageDiff\"]))\n",
    "print(\"Match count   :\", len(ageDiff_df.loc[ageDiff_df[\"match\"] == 1, \"ageDiff\"]))"
   ]
  },
  {
   "cell_type": "code",
   "execution_count": 9,
   "metadata": {
    "collapsed": true
   },
   "outputs": [],
   "source": [
    "import math\n",
    "def normpdf(x, mean, tau):\n",
    "    var = 1/tau\n",
    "    pi = 3.1415926\n",
    "    denom = (2*pi*var)**.5\n",
    "    num = math.exp(-(float(x)-float(mean))**2/(2*var))\n",
    "    return num/denom"
   ]
  },
  {
   "cell_type": "markdown",
   "metadata": {
    "collapsed": true
   },
   "source": [
    "# Initiate Model"
   ]
  },
  {
   "cell_type": "code",
   "execution_count": 10,
   "metadata": {
    "collapsed": false
   },
   "outputs": [],
   "source": [
    "X = ageDiff_df[\"ageDiff\"].values\n",
    "y = ageDiff_df[\"match\"].values"
   ]
  },
  {
   "cell_type": "code",
   "execution_count": 11,
   "metadata": {
    "collapsed": true
   },
   "outputs": [],
   "source": [
    "iterations = 200\n",
    "n_classes = 2\n",
    "n_examples = X.shape[0]"
   ]
  },
  {
   "cell_type": "code",
   "execution_count": 12,
   "metadata": {
    "collapsed": false
   },
   "outputs": [],
   "source": [
    "# Initiate variables\n",
    "\n",
    "# hyperparameters\n",
    "alpha_pi = [1,1] # paramaterizes dirichlet over pi's\n",
    "alpha_mu = 0     # paramaterizes guassian over mu's\n",
    "alpha_tau = 1    # paramaterizes gamma over tau's\n",
    "beta_tau = 1     # paramaterizes gamma over tau's\n",
    "\n",
    "# latent variables\n",
    "pi = dirichlet(alpha_pi) # paramaterizes discrete of z's\n",
    "mu_vec = np.zeros(2)     # paramaterizes gaussians over x's\n",
    "tau_vec = np.zeros(2)    # paramaterizes gaussians over x's\n",
    "for i in range(n_classes):\n",
    "    mu_vec[i] = normal(alpha_mu, scale=1.0)\n",
    "    tau_vec[i] = gamma(alpha_tau, 1.0/beta_tau)\n",
    "\n",
    "z_vec = np.zeros((n_examples, n_classes))\n",
    "for i in range(n_examples):\n",
    "    z_vec[i,:] = multinomial(n=1, pvals=pi)"
   ]
  },
  {
   "cell_type": "code",
   "execution_count": 13,
   "metadata": {
    "collapsed": false
   },
   "outputs": [
    {
     "name": "stdout",
     "output_type": "stream",
     "text": [
      "[ 0.02426781  0.97573219]\n",
      "[ 1.03670484 -1.95080629]\n",
      "[ 0.35772479  1.57747708]\n"
     ]
    }
   ],
   "source": [
    "print(pi)\n",
    "print(mu_vec)\n",
    "print(tau_vec)"
   ]
  },
  {
   "cell_type": "markdown",
   "metadata": {},
   "source": [
    "# Gibbs Sampling"
   ]
  },
  {
   "cell_type": "code",
   "execution_count": 46,
   "metadata": {
    "collapsed": false
   },
   "outputs": [],
   "source": [
    "iterations = 200\n",
    "\n",
    "pi_samples = np.empty((iterations, n_classes))\n",
    "mu_vec_samples = np.empty((iterations, n_classes))\n",
    "tau_vec_samples = np.empty((iterations, n_classes))\n",
    "\n",
    "for iteration in range(iterations):\n",
    "\n",
    "    # update pi\n",
    "    param_update = alpha_pi + np.sum(z_vec, axis=0)\n",
    "    pi = dirichlet(param_update)\n",
    "\n",
    "    # update mu's\n",
    "    for i in range(n_classes):\n",
    "        c_idx = z_vec[:,i] == 1\n",
    "        c_examples = np.sum(c_idx)\n",
    "\n",
    "        param1_update = (mu_vec[i] + tau_vec[i]*np.sum(X[c_idx])) / (1 + c_examples*tau_vec[i])\n",
    "        param2_update = 1 + c_examples*tau_vec[i]\n",
    "\n",
    "        mu_vec[i] = normal(param1_update, 1/param2_update)\n",
    "    \n",
    "    # update tau's\n",
    "    for i in range(n_classes):\n",
    "        c_idx = z_vec[:,i] == 1\n",
    "        c_examples = np.sum(c_idx)\n",
    "\n",
    "        param1_update = alpha_tau + (c_examples / 2)\n",
    "        param2_update = beta_tau + (np.sum( (X[c_idx] - mu_vec[i])**2 )) / 2\n",
    "\n",
    "        tau_vec[i] = gamma(param1_update, 1.0/param2_update)\n",
    "   \n",
    "    # update latent classes\n",
    "    for i in range(n_examples):\n",
    "\n",
    "        # likelihood of class 0\n",
    "        likelihood_0 = normpdf(X[i], mu_vec[0], tau_vec[0])\n",
    "        # prior of class 0\n",
    "        prior_0 = pi[0]\n",
    "\n",
    "        # likelihood of class 1\n",
    "        likelihood_1 = normpdf(X[i], mu_vec[1], tau_vec[1])\n",
    "        # prior of class 1\n",
    "        prior_1 = pi[1]\n",
    "\n",
    "        # marginal likelihood\n",
    "        Z = (likelihood_0 * prior_0) + (likelihood_1 * prior_1)\n",
    "\n",
    "        # probability of class 0\n",
    "        prob_0 = (likelihood_0 * prior_0) / Z\n",
    "        # probability of class 1\n",
    "        prob_1 = (likelihood_1 * prior_1) / Z\n",
    "\n",
    "        # sample from updated multinomial distribution\n",
    "        z_vec[i,:] = multinomial(n=1, pvals=[prob_0, prob_1])\n",
    "    \n",
    "    # save samples\n",
    "    pi_samples[iteration,:] = pi\n",
    "    mu_vec_samples[iteration,:] = mu_vec\n",
    "    tau_vec_samples[iteration,:] = tau_vec "
   ]
  },
  {
   "cell_type": "code",
   "execution_count": 41,
   "metadata": {
    "collapsed": false
   },
   "outputs": [
    {
     "name": "stdout",
     "output_type": "stream",
     "text": [
      "updated pi     : [ 0.06797779  0.93202221]\n",
      "updated mu_vec : [-0.65653165  0.64811925]\n",
      "updated tau_vec: [ 0.01336436  0.05569353]\n"
     ]
    }
   ],
   "source": [
    "print(\"updated pi     :\", pi)\n",
    "print(\"updated mu_vec :\", mu_vec)\n",
    "print(\"updated tau_vec:\", tau_vec)"
   ]
  },
  {
   "cell_type": "code",
   "execution_count": 61,
   "metadata": {
    "collapsed": false
   },
   "outputs": [
    {
     "name": "stdout",
     "output_type": "stream",
     "text": [
      "pi MAP:\t\t [ 0.06463346  0.93536654]\n",
      "mu vec MAP:\t [-0.01023385  0.56209325]\n",
      "tau vec MAP:\t [ 0.01124146  0.05583091]\n",
      "std vec MAP:\t [ 9.58378617  4.23452975]\n"
     ]
    }
   ],
   "source": [
    "print(\"pi MAP:\\t\\t\", np.mean(pi_samples, axis=0))\n",
    "print(\"mu vec MAP:\\t\", np.mean(mu_vec_samples, axis=0))\n",
    "print(\"tau vec MAP:\\t\", np.mean(tau_vec_samples, axis=0))\n",
    "print(\"std vec MAP:\\t\", np.mean(np.sqrt(1 / tau_vec_samples), axis=0))"
   ]
  },
  {
   "cell_type": "markdown",
   "metadata": {},
   "source": [
    "# Model Analysis"
   ]
  },
  {
   "cell_type": "code",
   "execution_count": 409,
   "metadata": {
    "collapsed": false
   },
   "outputs": [
    {
     "data": {
      "text/html": [
       "<div>\n",
       "<table border=\"1\" class=\"dataframe\">\n",
       "  <thead>\n",
       "    <tr style=\"text-align: right;\">\n",
       "      <th></th>\n",
       "      <th>ageDiff</th>\n",
       "      <th>latentClass</th>\n",
       "      <th>match</th>\n",
       "    </tr>\n",
       "  </thead>\n",
       "  <tbody>\n",
       "    <tr>\n",
       "      <th>0</th>\n",
       "      <td>6.0</td>\n",
       "      <td>0.0</td>\n",
       "      <td>0.0</td>\n",
       "    </tr>\n",
       "    <tr>\n",
       "      <th>1</th>\n",
       "      <td>3.0</td>\n",
       "      <td>1.0</td>\n",
       "      <td>0.0</td>\n",
       "    </tr>\n",
       "    <tr>\n",
       "      <th>2</th>\n",
       "      <td>2.0</td>\n",
       "      <td>1.0</td>\n",
       "      <td>0.0</td>\n",
       "    </tr>\n",
       "    <tr>\n",
       "      <th>3</th>\n",
       "      <td>4.0</td>\n",
       "      <td>1.0</td>\n",
       "      <td>0.0</td>\n",
       "    </tr>\n",
       "    <tr>\n",
       "      <th>4</th>\n",
       "      <td>6.0</td>\n",
       "      <td>0.0</td>\n",
       "      <td>0.0</td>\n",
       "    </tr>\n",
       "  </tbody>\n",
       "</table>\n",
       "</div>"
      ],
      "text/plain": [
       "   ageDiff  latentClass  match\n",
       "0      6.0          0.0    0.0\n",
       "1      3.0          1.0    0.0\n",
       "2      2.0          1.0    0.0\n",
       "3      4.0          1.0    0.0\n",
       "4      6.0          0.0    0.0"
      ]
     },
     "execution_count": 409,
     "metadata": {},
     "output_type": "execute_result"
    }
   ],
   "source": [
    "df = pd.DataFrame(np.hstack((\n",
    "    X.reshape(-1,1), \n",
    "    z_vec[:,0].reshape(-1,1),\n",
    "    y.reshape(-1,1))))\n",
    "df.columns = ['ageDiff', 'latentClass', 'match']\n",
    "df.head()"
   ]
  },
  {
   "cell_type": "code",
   "execution_count": 348,
   "metadata": {
    "collapsed": false,
    "scrolled": true
   },
   "outputs": [
    {
     "data": {
      "image/png": "[encoded data removed]",
      "text/plain": [
       "<matplotlib.figure.Figure at 0x113c6d4a8>"
      ]
     },
     "metadata": {},
     "output_type": "display_data"
    }
   ],
   "source": [
    "plt.figure(figsize=(10,5))\n",
    "sns.violinplot(x=\"latentClass\", y=\"ageDiff\", data=df)\n",
    "plt.show()"
   ]
  },
  {
   "cell_type": "code",
   "execution_count": null,
   "metadata": {
    "collapsed": true
   },
   "outputs": [],
   "source": []
  }
 ],
 "metadata": {
  "kernelspec": {
   "display_name": "Python 3",
   "language": "python",
   "name": "python3"
  },
  "language_info": {
   "codemirror_mode": {
    "name": "ipython",
    "version": 3
   },
   "file_extension": ".py",
   "mimetype": "text/x-python",
   "name": "python",
   "nbconvert_exporter": "python",
   "pygments_lexer": "ipython3",
   "version": "3.5.2"
  }
 },
 "nbformat": 4,
 "nbformat_minor": 2
}
